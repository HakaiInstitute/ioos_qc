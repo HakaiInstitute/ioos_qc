{
  "cells": [
    {
      "cell_type": "markdown",
      "metadata": {
        "pycharm": {}
      },
      "source": [
        "# Setup"
      ]
    },
    {
      "cell_type": "code",
      "execution_count": null,
      "metadata": {
        "pycharm": {}
      },
      "outputs": [],
      "source": [
        "# Install QC library\n",
        "!pip install git+git://github.com/ioos/ioos_qc.git\n",
        "from ioos_qc.config import QcConfig\n",
        "from ioos_qc import qartod"
      ]
    },
    {
      "cell_type": "code",
      "execution_count": null,
      "metadata": {
        "pycharm": {}
      },
      "outputs": [],
      "source": [
        "# Other imports\n",
        "import pandas as pd\n",
        "import numpy as np\n",
        "from datetime import datetime\n",
        "\n",
        "from bokeh.layouts import gridplot\n",
        "from bokeh.plotting import figure, show, output_file, output_notebook\n",
        "output_notebook()"
      ]
    },
    {
      "cell_type": "code",
      "execution_count": null,
      "metadata": {
        "pycharm": {}
      },
      "outputs": [],
      "source": [
        "# Method to plot QC results using Bokeh\n",
        "def plot_results(data, var_name, results, title, test_name):\n",
        "\n",
        "    time \u003d data[\u0027time\u0027]\n",
        "    obs \u003d data[var_name]\n",
        "    qc_test \u003d results[\u0027qartod\u0027][test_name]\n",
        "\n",
        "    qc_pass \u003d np.ma.masked_where(qc_test !\u003d 1, obs)\n",
        "    qc_suspect \u003d np.ma.masked_where(qc_test !\u003d 3, obs)\n",
        "    qc_fail \u003d np.ma.masked_where(qc_test !\u003d 4, obs)\n",
        "    qc_notrun \u003d np.ma.masked_where(qc_test !\u003d 2, obs)\n",
        "\n",
        "    p1 \u003d figure(x_axis_type\u003d\"datetime\", title\u003dtest_name + \u0027 : \u0027 + title)\n",
        "    p1.grid.grid_line_alpha\u003d0.3\n",
        "    p1.xaxis.axis_label \u003d \u0027Time\u0027\n",
        "    p1.yaxis.axis_label \u003d \u0027Observation Value\u0027\n",
        "\n",
        "    p1.line(time, obs,  legend\u003d\u0027obs\u0027, color\u003d\u0027#A6CEE3\u0027)\n",
        "    p1.circle(time, qc_notrun, size\u003d2, legend\u003d\u0027qc not run\u0027, color\u003d\u0027gray\u0027, alpha\u003d0.2)\n",
        "    p1.circle(time, qc_pass, size\u003d4, legend\u003d\u0027qc pass\u0027, color\u003d\u0027green\u0027, alpha\u003d0.5)\n",
        "    p1.circle(time, qc_suspect, size\u003d4, legend\u003d\u0027qc suspect\u0027, color\u003d\u0027orange\u0027, alpha\u003d0.7)\n",
        "    p1.circle(time, qc_fail, size\u003d6, legend\u003d\u0027qc fail\u0027, color\u003d\u0027red\u0027, alpha\u003d1.0)\n",
        "\n",
        "    #output_file(\"qc.html\", title\u003d\"qc example\")\n",
        "\n",
        "    show(gridplot([[p1]], plot_width\u003d800, plot_height\u003d400))\n"
      ]
    },
    {
      "cell_type": "markdown",
      "metadata": {
        "pycharm": {}
      },
      "source": [
        "# Specify data and QC configuration"
      ]
    },
    {
      "cell_type": "code",
      "execution_count": null,
      "metadata": {
        "pycharm": {}
      },
      "outputs": [],
      "source": [
        "# Water level data\n",
        "# For a fixed station in Kotzebue, AK (https://www.google.com/maps?q\u003d66.895035,-162.566752)\n",
        "filename \u003d \u0027water_level_example.csv\u0027\n",
        "variable_name\u003d\u0027sea_surface_height_above_sea_level\u0027\n",
        "\n",
        "# QC configuration\n",
        "# For sea water temperature in degrees C\n",
        "# This configuration is used to call the corresponding method in the ioos_qc library\n",
        "# See documentation for description of each test and its inputs: \n",
        "#   https://ioos.github.io/ioos_qc/api/ioos_qc.html#module-ioos_qc.qartod\n",
        "qc_config \u003d {\n",
        "    \u0027qartod\u0027: {\n",
        "      \"gross_range_test\": {\n",
        "        \"fail_span\": [-10,10],\n",
        "        \"suspect_span\": [-2,3]\n",
        "      },\n",
        "      \"flat_line_test\": {\n",
        "        \"tolerance\": 0.001,\n",
        "        \"suspect_threshold\": 10800,\n",
        "        \"fail_threshold\": 21600\n",
        "      },\n",
        "      \"rate_of_change_test\": {\n",
        "        \"threshold\": 0.001\n",
        "      },\n",
        "      \"spike_test\": {\n",
        "        \"suspect_threshold\": 0.8,\n",
        "        \"fail_threshold\": 3\n",
        "      }\n",
        "    }\n",
        "}"
      ]
    },
    {
      "cell_type": "markdown",
      "metadata": {
        "pycharm": {}
      },
      "source": [
        "# Load data, run tests and plot results"
      ]
    },
    {
      "cell_type": "code",
      "execution_count": null,
      "metadata": {
        "pycharm": {}
      },
      "outputs": [],
      "source": [
        "# Load data\n",
        "data \u003d pd.read_csv(filename, parse_dates\u003d[\u0027time\u0027])\n",
        "data.head()"
      ]
    },
    {
      "cell_type": "code",
      "execution_count": null,
      "metadata": {
        "pycharm": {}
      },
      "outputs": [],
      "source": "# Run QC\nqc \u003d QcConfig(qc_config)\nqc_results \u003d  qc.run(\n    inp\u003ddata[variable_name],\n    tinp\u003ddata[\u0027timestamp\u0027],\n    zinp\u003ddata[\u0027z\u0027],\n    gen_agg\u003dTrue\n)\nqc_results\n"
    },
    {
      "cell_type": "code",
      "execution_count": null,
      "metadata": {
        "pycharm": {}
      },
      "outputs": [],
      "source": [
        "# Plot results\n",
        "title \u003d \"Water Level [MHHW] [m] : Kotzebue, AK\"\n",
        "\n",
        "plot_results(data, variable_name, qc_results, title, \u0027gross_range_test\u0027)"
      ]
    },
    {
      "cell_type": "code",
      "execution_count": null,
      "metadata": {
        "pycharm": {}
      },
      "outputs": [],
      "source": [
        "plot_results(data, variable_name, qc_results, title, \u0027flat_line_test\u0027)"
      ]
    },
    {
      "cell_type": "code",
      "execution_count": null,
      "metadata": {
        "pycharm": {}
      },
      "outputs": [],
      "source": [
        "plot_results(data, variable_name, qc_results, title, \u0027rate_of_change_test\u0027)"
      ]
    },
    {
      "cell_type": "code",
      "execution_count": null,
      "metadata": {
        "scrolled": false,
        "pycharm": {}
      },
      "outputs": [],
      "source": [
        "plot_results(data, variable_name, qc_results, title, \u0027spike_test\u0027)"
      ]
    },
    {
      "cell_type": "code",
      "execution_count": null,
      "metadata": {
        "pycharm": {}
      },
      "outputs": [],
      "source": "# QC Aggregate flag\nplot_results(data, variable_name, qc_results, title, \u0027aggregate_flag\u0027)"
    },
    {
      "cell_type": "code",
      "execution_count": null,
      "metadata": {
        "pycharm": {}
      },
      "outputs": [],
      "source": []
    }
  ],
  "metadata": {
    "kernelspec": {
      "display_name": "Python 3",
      "language": "python",
      "name": "python3"
    },
    "language_info": {
      "codemirror_mode": {
        "name": "ipython",
        "version": 3
      },
      "file_extension": ".py",
      "mimetype": "text/x-python",
      "name": "python",
      "nbconvert_exporter": "python",
      "pygments_lexer": "ipython3",
      "version": "3.7.3"
    }
  },
  "nbformat": 4,
  "nbformat_minor": 2
}